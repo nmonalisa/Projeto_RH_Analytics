{
 "cells": [
  {
   "cell_type": "markdown",
   "metadata": {},
   "source": [
    "## Pré-Processamento\n",
    "---"
   ]
  },
  {
   "cell_type": "markdown",
   "metadata": {},
   "source": [
    "#### Imports e Configurações"
   ]
  },
  {
   "cell_type": "code",
   "execution_count": 1,
   "metadata": {},
   "outputs": [],
   "source": [
    "import pandas as pd\n",
    "from   minio import Minio\n",
    "import numpy as np\n",
    "\n",
    "import matplotlib.pyplot as plt\n",
    "import seaborn as sns\n",
    "\n",
    "from   sklearn.preprocessing import MinMaxScaler\n",
    "from   sklearn.model_selection import train_test_split\n",
    "\n",
    "from   sklearn.tree import DecisionTreeClassifier\n",
    "from   sklearn.linear_model import LogisticRegression\n",
    "from   sklearn.tree import DecisionTreeClassifier\n",
    "from   sklearn.ensemble import RandomForestClassifier\n",
    "\n",
    "from   sklearn.metrics import roc_auc_score\n",
    "from   sklearn.metrics import accuracy_score\n",
    "from   sklearn.metrics import classification_report\n",
    "from   sklearn.metrics import confusion_matrix\n",
    "from   sklearn.metrics import ConfusionMatrixDisplay\n",
    "\n",
    "#from lazypredict.Supervised import LazyClassifier\n",
    "\n",
    "import pickle\n",
    "import joblib\n",
    "\n",
    "import warnings\n",
    "warnings.filterwarnings(\"ignore\")"
   ]
  },
  {
   "cell_type": "code",
   "execution_count": 2,
   "metadata": {},
   "outputs": [],
   "source": [
    "# Cliente do datalake\n",
    "client = Minio(\n",
    "        \"localhost:9000\",\n",
    "        access_key=\"minioadmin\",\n",
    "        secret_key=\"minioadmin\",\n",
    "        secure=False\n",
    "    )"
   ]
  },
  {
   "cell_type": "markdown",
   "metadata": {},
   "source": [
    "#### Funções auxiliares"
   ]
  },
  {
   "cell_type": "code",
   "execution_count": 3,
   "metadata": {},
   "outputs": [],
   "source": [
    "# Baseline Model: \n",
    "# sempre retorna a classe mais frequente da variável resposta (0)\n",
    "\n",
    "def base_rate_model(X) :\n",
    "    y = np.zeros(X.shape[0])\n",
    "    return y\n",
    "\n",
    "# Mostrar acurácia do modelo\n",
    "def accuracy_result(y_test,y_predict):\n",
    "    acc = accuracy_score(y_test, y_predict)\n",
    "    print (\"Accuracy = %2.2f\" % acc)\n",
    "\n",
    "def show_model_confusion_matrix(y_test, y_predict, title, labels=[0, 1]):\n",
    "    cm = confusion_matrix(y_test, y_predict)\n",
    "    plot = ConfusionMatrixDisplay(confusion_matrix=cm, display_labels=labels)\n",
    "    plot.plot()\n",
    "    plt.grid(False)\n",
    "    plt.title(title)\n",
    "    plt.show();\n",
    "\n",
    "\n",
    "# Mostrar curva AUC-ROC do modelo\n",
    "def roc_classification_report_results(model,y_test,y_predict):\n",
    "    roc_ = roc_auc_score(y_test, y_predict)\n",
    "    classfication_report = classification_report(y_test, y_predict)\n",
    "    print (\"\\n{} AUC = {}\\n\".format(model, roc_))\n",
    "    print(classfication_report)\n",
    "    return roc_;"
   ]
  },
  {
   "cell_type": "markdown",
   "metadata": {},
   "source": [
    "#### Carregando o dataset do datalake"
   ]
  },
  {
   "cell_type": "code",
   "execution_count": 4,
   "metadata": {},
   "outputs": [],
   "source": [
    "client.fget_object(\n",
    "            \"processing\",\n",
    "            \"employees_dataset.parquet\",\n",
    "            \"temp_.parquet\",\n",
    ")\n",
    "df = pd.read_parquet(\"temp_.parquet\")"
   ]
  },
  {
   "cell_type": "code",
   "execution_count": 5,
   "metadata": {},
   "outputs": [
    {
     "data": {
      "text/html": [
       "<div>\n",
       "<style scoped>\n",
       "    .dataframe tbody tr th:only-of-type {\n",
       "        vertical-align: middle;\n",
       "    }\n",
       "\n",
       "    .dataframe tbody tr th {\n",
       "        vertical-align: top;\n",
       "    }\n",
       "\n",
       "    .dataframe thead th {\n",
       "        text-align: right;\n",
       "    }\n",
       "</style>\n",
       "<table border=\"1\" class=\"dataframe\">\n",
       "  <thead>\n",
       "    <tr style=\"text-align: right;\">\n",
       "      <th></th>\n",
       "      <th>department</th>\n",
       "      <th>salary</th>\n",
       "      <th>left</th>\n",
       "      <th>mean_work_last_3_months</th>\n",
       "      <th>number_projects</th>\n",
       "      <th>satisfaction_level</th>\n",
       "      <th>last_evaluation</th>\n",
       "      <th>time_in_company</th>\n",
       "      <th>work_accident</th>\n",
       "    </tr>\n",
       "  </thead>\n",
       "  <tbody>\n",
       "    <tr>\n",
       "      <th>0</th>\n",
       "      <td>sales</td>\n",
       "      <td>low</td>\n",
       "      <td>1.0</td>\n",
       "      <td>266.000000</td>\n",
       "      <td>2.0</td>\n",
       "      <td>38.0</td>\n",
       "      <td>53.0</td>\n",
       "      <td>3.0</td>\n",
       "      <td>0.0</td>\n",
       "    </tr>\n",
       "    <tr>\n",
       "      <th>1</th>\n",
       "      <td>sales</td>\n",
       "      <td>medium</td>\n",
       "      <td>1.0</td>\n",
       "      <td>252.000000</td>\n",
       "      <td>5.0</td>\n",
       "      <td>80.0</td>\n",
       "      <td>86.0</td>\n",
       "      <td>6.0</td>\n",
       "      <td>0.0</td>\n",
       "    </tr>\n",
       "    <tr>\n",
       "      <th>2</th>\n",
       "      <td>sales</td>\n",
       "      <td>medium</td>\n",
       "      <td>1.0</td>\n",
       "      <td>289.666667</td>\n",
       "      <td>7.0</td>\n",
       "      <td>11.0</td>\n",
       "      <td>88.0</td>\n",
       "      <td>4.0</td>\n",
       "      <td>0.0</td>\n",
       "    </tr>\n",
       "    <tr>\n",
       "      <th>3</th>\n",
       "      <td>sales</td>\n",
       "      <td>low</td>\n",
       "      <td>1.0</td>\n",
       "      <td>275.666667</td>\n",
       "      <td>5.0</td>\n",
       "      <td>72.0</td>\n",
       "      <td>87.0</td>\n",
       "      <td>5.0</td>\n",
       "      <td>0.0</td>\n",
       "    </tr>\n",
       "    <tr>\n",
       "      <th>4</th>\n",
       "      <td>sales</td>\n",
       "      <td>low</td>\n",
       "      <td>1.0</td>\n",
       "      <td>292.333333</td>\n",
       "      <td>2.0</td>\n",
       "      <td>37.0</td>\n",
       "      <td>52.0</td>\n",
       "      <td>3.0</td>\n",
       "      <td>0.0</td>\n",
       "    </tr>\n",
       "  </tbody>\n",
       "</table>\n",
       "</div>"
      ],
      "text/plain": [
       "  department  salary  left  mean_work_last_3_months  number_projects  \\\n",
       "0      sales     low   1.0               266.000000              2.0   \n",
       "1      sales  medium   1.0               252.000000              5.0   \n",
       "2      sales  medium   1.0               289.666667              7.0   \n",
       "3      sales     low   1.0               275.666667              5.0   \n",
       "4      sales     low   1.0               292.333333              2.0   \n",
       "\n",
       "   satisfaction_level  last_evaluation  time_in_company  work_accident  \n",
       "0                38.0             53.0              3.0            0.0  \n",
       "1                80.0             86.0              6.0            0.0  \n",
       "2                11.0             88.0              4.0            0.0  \n",
       "3                72.0             87.0              5.0            0.0  \n",
       "4                37.0             52.0              3.0            0.0  "
      ]
     },
     "execution_count": 5,
     "metadata": {},
     "output_type": "execute_result"
    }
   ],
   "source": [
    "df.head(5)"
   ]
  },
  {
   "cell_type": "markdown",
   "metadata": {},
   "source": [
    "#### Pré-processamento dos dados"
   ]
  },
  {
   "cell_type": "markdown",
   "metadata": {},
   "source": [
    "##### Reorganizar colunas e exluir valores missing"
   ]
  },
  {
   "cell_type": "code",
   "execution_count": 6,
   "metadata": {},
   "outputs": [],
   "source": [
    "df.dropna(inplace=True)\n",
    "df = df[['department', 'salary', 'mean_work_last_3_months',\n",
    "       'number_projects', 'satisfaction_level', 'last_evaluation',\n",
    "       'time_in_company', 'work_accident','left']]"
   ]
  },
  {
   "cell_type": "markdown",
   "metadata": {},
   "source": [
    "##### Alterar tipos de dados"
   ]
  },
  {
   "cell_type": "code",
   "execution_count": 7,
   "metadata": {},
   "outputs": [],
   "source": [
    "# Numéricos\n",
    "df[\"number_projects\"] = df[\"number_projects\"].astype(int)\n",
    "df[\"mean_work_last_3_months\"] = df[\"mean_work_last_3_months\"].astype(int)\n",
    "df[\"time_in_company\"] = df[\"time_in_company\"].astype(int)\n",
    "df[\"work_accident\"] = df[\"work_accident\"].astype(int)\n",
    "df[\"left\"] = df[\"left\"].astype(int)\n",
    "\n",
    "# Categóricos\n",
    "df[\"department\"] = df[\"department\"].astype('category').cat.codes\n",
    "df[\"salary\"] = df[\"salary\"].astype('category').cat.codes"
   ]
  },
  {
   "cell_type": "markdown",
   "metadata": {},
   "source": [
    "##### Renomear atributos"
   ]
  },
  {
   "cell_type": "code",
   "execution_count": 8,
   "metadata": {},
   "outputs": [],
   "source": [
    "df = df.rename(columns={'satisfaction_level': 'satisfaction', \n",
    "                        'last_evaluation': 'evaluation',\n",
    "                        'number_projects': 'projectCount',\n",
    "                        'mean_work_last_3_months': 'averageMonthlyHours',\n",
    "                        'time_in_company': 'yearsAtCompany',\n",
    "                        'work_accident': 'workAccident',\n",
    "                        'left' : 'turnover'\n",
    "                        })"
   ]
  },
  {
   "cell_type": "markdown",
   "metadata": {},
   "source": [
    "##### Separando variáveis preditoras x resposta"
   ]
  },
  {
   "cell_type": "code",
   "execution_count": 9,
   "metadata": {},
   "outputs": [],
   "source": [
    "target_name = 'turnover'\n",
    "X = df.drop('turnover', axis=1)\n",
    "y = df[target_name]"
   ]
  },
  {
   "cell_type": "code",
   "execution_count": 10,
   "metadata": {},
   "outputs": [
    {
     "data": {
      "text/plain": [
       "((14999, 8), (14999,))"
      ]
     },
     "execution_count": 10,
     "metadata": {},
     "output_type": "execute_result"
    }
   ],
   "source": [
    "X.shape, y.shape"
   ]
  },
  {
   "cell_type": "markdown",
   "metadata": {},
   "source": [
    "##### Rescalonamento das variáveis preditoras"
   ]
  },
  {
   "cell_type": "code",
   "execution_count": 11,
   "metadata": {},
   "outputs": [],
   "source": [
    "scaler = MinMaxScaler()\n",
    "X = scaler.fit_transform(X)"
   ]
  },
  {
   "cell_type": "markdown",
   "metadata": {},
   "source": [
    "#### Features Selection"
   ]
  },
  {
   "cell_type": "markdown",
   "metadata": {},
   "source": [
    "Para entender qual são as variáveis mais importantes para o modelo, vamos treinar o algoritmo com todas as variáveis preditoras (X) e extrair a importância relativa de cada uma delas. Depois, retreinaremos o modelo, mas dessa vez utilizando apenas as variáveis preditoras + importantes."
   ]
  },
  {
   "cell_type": "code",
   "execution_count": 12,
   "metadata": {},
   "outputs": [],
   "source": [
    "# Configs\n",
    "test_size = 0.2\n",
    "random_state = 42\n",
    "stratify = y"
   ]
  },
  {
   "cell_type": "code",
   "execution_count": 13,
   "metadata": {},
   "outputs": [],
   "source": [
    "# Bases de treino e teste\n",
    "X_train, X_test, y_train, y_test = train_test_split(X,y,test_size=test_size, random_state=random_state, stratify = stratify)"
   ]
  },
  {
   "cell_type": "code",
   "execution_count": 14,
   "metadata": {},
   "outputs": [
    {
     "data": {
      "image/png": "[encoded data removed]",
      "text/plain": [
       "<Figure size 1512x576 with 1 Axes>"
      ]
     },
     "metadata": {
      "needs_background": "light"
     },
     "output_type": "display_data"
    }
   ],
   "source": [
    "# Primeiro treino\n",
    "dtree = DecisionTreeClassifier()\n",
    "dtree = dtree.fit(X_train,y_train)\n",
    "\n",
    "# Importância das variáveis para o algoritmo treinado\n",
    "importances = dtree.feature_importances_\n",
    "feat_names = df.drop(['turnover'],axis=1).columns\n",
    "\n",
    "# Plot\n",
    "indices = np.argsort(importances)[::-1]\n",
    "plt.figure(figsize=(21,8))\n",
    "plt.title(\"Feature importances by DecisionTreeClassifier\")\n",
    "plt.bar(range(len(indices)), importances[indices], color='b',  align=\"center\")\n",
    "plt.xticks(range(len(indices)), feat_names[indices],fontsize=14)\n",
    "plt.xlim([-1, len(indices)])\n",
    "plt.show()"
   ]
  },
  {
   "cell_type": "markdown",
   "metadata": {},
   "source": [
    "##### Filtrando apenas as variáveis + importantes"
   ]
  },
  {
   "cell_type": "code",
   "execution_count": 15,
   "metadata": {},
   "outputs": [],
   "source": [
    "X = df[[\"satisfaction\",\"yearsAtCompany\", \"evaluation\",\"projectCount\", \"averageMonthlyHours\"]]\n",
    "#X = scaler.fit_transform(X)"
   ]
  },
  {
   "cell_type": "markdown",
   "metadata": {},
   "source": [
    "---\n",
    "## Construção dos modelos de ML"
   ]
  },
  {
   "cell_type": "markdown",
   "metadata": {},
   "source": [
    "##### Configs"
   ]
  },
  {
   "cell_type": "code",
   "execution_count": 16,
   "metadata": {},
   "outputs": [],
   "source": [
    "# Configs\n",
    "test_size = 0.2\n",
    "random_state = 42\n",
    "stratify = y"
   ]
  },
  {
   "cell_type": "code",
   "execution_count": 17,
   "metadata": {},
   "outputs": [
    {
     "name": "stdout",
     "output_type": "stream",
     "text": [
      "----------\n",
      "Bases de treino: ((11999, 5), (11999,))\n",
      "Bases de teste: ((3000, 5), (3000,))\n"
     ]
    }
   ],
   "source": [
    "X_train, X_test, y_train, y_test = train_test_split(X,y,test_size=test_size, random_state=random_state, stratify = stratify)\n",
    "\n",
    "print(f'----------')\n",
    "print(f'Bases de treino: {X_train.shape, y_train.shape}')\n",
    "print(f'Bases de teste: {X_test.shape, y_test.shape}')"
   ]
  },
  {
   "cell_type": "markdown",
   "metadata": {},
   "source": [
    "##### Baseline model"
   ]
  },
  {
   "cell_type": "code",
   "execution_count": 18,
   "metadata": {},
   "outputs": [
    {
     "name": "stdout",
     "output_type": "stream",
     "text": [
      "Accuracy = 0.76\n",
      "\n",
      "Base Model AUC = 0.5\n",
      "\n",
      "              precision    recall  f1-score   support\n",
      "\n",
      "           0       0.76      1.00      0.86      2286\n",
      "           1       0.00      0.00      0.00       714\n",
      "\n",
      "    accuracy                           0.76      3000\n",
      "   macro avg       0.38      0.50      0.43      3000\n",
      "weighted avg       0.58      0.76      0.66      3000\n",
      "\n"
     ]
    },
    {
     "data": {
      "image/png": "[encoded data removed]",
      "text/plain": [
       "<Figure size 432x288 with 2 Axes>"
      ]
     },
     "metadata": {
      "needs_background": "light"
     },
     "output_type": "display_data"
    }
   ],
   "source": [
    "y_predict = base_rate_model(X_test)\n",
    "accuracy_result(y_test, y_predict)\n",
    "auc_baseline = roc_classification_report_results(\"Base Model\", y_test, y_predict)\n",
    "show_model_confusion_matrix(y_test, y_predict, \"Confusion Matrix\")"
   ]
  },
  {
   "cell_type": "markdown",
   "metadata": {},
   "source": [
    "##### Regressão Logística"
   ]
  },
  {
   "cell_type": "code",
   "execution_count": 19,
   "metadata": {},
   "outputs": [],
   "source": [
    "logis = LogisticRegression()\n",
    "logis.fit(X_train, y_train)\n",
    "y_predict = logis.predict(X_test)"
   ]
  },
  {
   "cell_type": "code",
   "execution_count": 20,
   "metadata": {},
   "outputs": [
    {
     "name": "stdout",
     "output_type": "stream",
     "text": [
      "Accuracy = 0.77\n",
      "\n",
      "Regressão Logística AUC = 0.5950837027724476\n",
      "\n",
      "              precision    recall  f1-score   support\n",
      "\n",
      "           0       0.80      0.92      0.86      2286\n",
      "           1       0.52      0.27      0.35       714\n",
      "\n",
      "    accuracy                           0.77      3000\n",
      "   macro avg       0.66      0.60      0.61      3000\n",
      "weighted avg       0.73      0.77      0.74      3000\n",
      "\n"
     ]
    },
    {
     "data": {
      "image/png": "[encoded data removed]",
      "text/plain": [
       "<Figure size 432x288 with 2 Axes>"
      ]
     },
     "metadata": {
      "needs_background": "light"
     },
     "output_type": "display_data"
    }
   ],
   "source": [
    "accuracy_result(y_test, y_predict)\n",
    "auc_logis = roc_classification_report_results(\"Regressão Logística\", y_test, y_predict)\n",
    "show_model_confusion_matrix(y_test, y_predict, \"Confusion Matrix\")"
   ]
  },
  {
   "cell_type": "markdown",
   "metadata": {},
   "source": [
    "##### Árvore de Decisão"
   ]
  },
  {
   "cell_type": "code",
   "execution_count": 21,
   "metadata": {},
   "outputs": [],
   "source": [
    "dtree = DecisionTreeClassifier()\n",
    "dtree = dtree.fit(X_train,y_train)\n",
    "y_predict = dtree.predict(X_test)"
   ]
  },
  {
   "cell_type": "code",
   "execution_count": 22,
   "metadata": {},
   "outputs": [
    {
     "name": "stdout",
     "output_type": "stream",
     "text": [
      "Accuracy = 0.97\n",
      "\n",
      "Tree Decision AUC = 0.956283038149643\n",
      "\n",
      "              precision    recall  f1-score   support\n",
      "\n",
      "           0       0.98      0.97      0.98      2286\n",
      "           1       0.92      0.94      0.93       714\n",
      "\n",
      "    accuracy                           0.97      3000\n",
      "   macro avg       0.95      0.96      0.95      3000\n",
      "weighted avg       0.97      0.97      0.97      3000\n",
      "\n"
     ]
    },
    {
     "data": {
      "image/png": "[encoded data removed]",
      "text/plain": [
       "<Figure size 432x288 with 2 Axes>"
      ]
     },
     "metadata": {
      "needs_background": "light"
     },
     "output_type": "display_data"
    }
   ],
   "source": [
    "accuracy_result(y_test, y_predict)\n",
    "auc_dtree = roc_classification_report_results(\"Tree Decision\", y_test, y_predict)\n",
    "show_model_confusion_matrix(y_test, y_predict, \"Confusion Matrix\")"
   ]
  },
  {
   "cell_type": "markdown",
   "metadata": {},
   "source": [
    "##### Random Forest"
   ]
  },
  {
   "cell_type": "code",
   "execution_count": 23,
   "metadata": {},
   "outputs": [],
   "source": [
    "rf = RandomForestClassifier()\n",
    "rf.fit(X_train,y_train)\n",
    "y_predict = rf.predict(X_test)"
   ]
  },
  {
   "cell_type": "code",
   "execution_count": 24,
   "metadata": {},
   "outputs": [],
   "source": [
    "df = df.rename(columns={'satisfaction_level': 'satisfaction', \n",
    "                        'last_evaluation': 'evaluation',\n",
    "                        'number_projects': 'projectCount',\n",
    "                        'mean_work_last_3_months': 'averageMonthlyHours',\n",
    "                        'time_in_company': 'yearsAtCompany',\n",
    "                        'work_accident': 'workAccident',\n",
    "                        'left' : 'turnover'\n",
    "                        })"
   ]
  },
  {
   "cell_type": "code",
   "execution_count": 25,
   "metadata": {},
   "outputs": [
    {
     "name": "stdout",
     "output_type": "stream",
     "text": [
      "Accuracy = 0.98\n",
      "\n",
      "Random Forest AUC = 0.9610048743907011\n",
      "\n",
      "              precision    recall  f1-score   support\n",
      "\n",
      "           0       0.98      0.99      0.99      2286\n",
      "           1       0.98      0.93      0.95       714\n",
      "\n",
      "    accuracy                           0.98      3000\n",
      "   macro avg       0.98      0.96      0.97      3000\n",
      "weighted avg       0.98      0.98      0.98      3000\n",
      "\n"
     ]
    },
    {
     "data": {
      "image/png": "[encoded data removed]",
      "text/plain": [
       "<Figure size 432x288 with 2 Axes>"
      ]
     },
     "metadata": {
      "needs_background": "light"
     },
     "output_type": "display_data"
    }
   ],
   "source": [
    "accuracy_result(y_test, y_predict)\n",
    "auc_rf = roc_classification_report_results(\"Random Forest\", y_test, y_predict)\n",
    "show_model_confusion_matrix(y_test, y_predict, \"Confusion Matrix\")"
   ]
  },
  {
   "cell_type": "markdown",
   "metadata": {},
   "source": [
    "##### Comparando resultado dos modelos"
   ]
  },
  {
   "cell_type": "code",
   "execution_count": 26,
   "metadata": {},
   "outputs": [],
   "source": [
    "models = [(\"Baseline\", auc_baseline),\n",
    "          (\"Regressão Logística\", auc_logis),\n",
    "          (\"Tree Decision\", auc_dtree),\n",
    "          (\"Random Forest\", auc_rf)\n",
    "    \t ]"
   ]
  },
  {
   "cell_type": "code",
   "execution_count": 27,
   "metadata": {},
   "outputs": [],
   "source": [
    "all_results = pd.DataFrame(columns=[\"Model\", \"AUC\"])\n",
    "for model in models: \n",
    "    all_results = all_results.append({\"Model\": model[0], \"AUC\": model[1]}, ignore_index=True)\n",
    "    all_results.sort_values(by=\"AUC\", inplace=True, ascending=False)"
   ]
  },
  {
   "cell_type": "code",
   "execution_count": 28,
   "metadata": {},
   "outputs": [
    {
     "data": {
      "text/html": [
       "<div>\n",
       "<style scoped>\n",
       "    .dataframe tbody tr th:only-of-type {\n",
       "        vertical-align: middle;\n",
       "    }\n",
       "\n",
       "    .dataframe tbody tr th {\n",
       "        vertical-align: top;\n",
       "    }\n",
       "\n",
       "    .dataframe thead th {\n",
       "        text-align: right;\n",
       "    }\n",
       "</style>\n",
       "<table border=\"1\" class=\"dataframe\">\n",
       "  <thead>\n",
       "    <tr style=\"text-align: right;\">\n",
       "      <th></th>\n",
       "      <th>Model</th>\n",
       "      <th>AUC</th>\n",
       "    </tr>\n",
       "  </thead>\n",
       "  <tbody>\n",
       "    <tr>\n",
       "      <th>3</th>\n",
       "      <td>Random Forest</td>\n",
       "      <td>0.961005</td>\n",
       "    </tr>\n",
       "    <tr>\n",
       "      <th>0</th>\n",
       "      <td>Tree Decision</td>\n",
       "      <td>0.956283</td>\n",
       "    </tr>\n",
       "    <tr>\n",
       "      <th>1</th>\n",
       "      <td>Regressão Logística</td>\n",
       "      <td>0.595084</td>\n",
       "    </tr>\n",
       "    <tr>\n",
       "      <th>2</th>\n",
       "      <td>Baseline</td>\n",
       "      <td>0.500000</td>\n",
       "    </tr>\n",
       "  </tbody>\n",
       "</table>\n",
       "</div>"
      ],
      "text/plain": [
       "                 Model       AUC\n",
       "3        Random Forest  0.961005\n",
       "0        Tree Decision  0.956283\n",
       "1  Regressão Logística  0.595084\n",
       "2             Baseline  0.500000"
      ]
     },
     "execution_count": 28,
     "metadata": {},
     "output_type": "execute_result"
    }
   ],
   "source": [
    "all_results"
   ]
  },
  {
   "cell_type": "code",
   "execution_count": 29,
   "metadata": {},
   "outputs": [
    {
     "data": {
      "image/png": "[encoded data removed]",
      "text/plain": [
       "<Figure size 576x360 with 1 Axes>"
      ]
     },
     "metadata": {
      "needs_background": "light"
     },
     "output_type": "display_data"
    }
   ],
   "source": [
    "plt.figure(figsize=(8,5))\n",
    "ax = sns.barplot(x=\"Model\", y=\"AUC\", data=all_results, color=\"b\")\n",
    "ax.set_xlabel(\"Model\");"
   ]
  },
  {
   "cell_type": "markdown",
   "metadata": {},
   "source": [
    "-----------\n",
    "\n",
    "## Salvando arquivos no datalake"
   ]
  },
  {
   "cell_type": "markdown",
   "metadata": {},
   "source": [
    "Os arquivos serão utilizados no script do app. Lá, pegaremos os inputs do usuário e faremos a predição com o modelo treinado, após carregá-lo a partir do datalake."
   ]
  },
  {
   "cell_type": "code",
   "execution_count": 30,
   "metadata": {},
   "outputs": [
    {
     "data": {
      "text/plain": [
       "<minio.helpers.ObjectWriteResult at 0x1957e7785b0>"
      ]
     },
     "execution_count": 30,
     "metadata": {},
     "output_type": "execute_result"
    }
   ],
   "source": [
    "# Salvar modelo em disco\n",
    "file_path = 'C:\\Projetos Pessoais\\Projeto_RHAnalytics\\models\\model.sav'\n",
    "file_name = \"model.sav\"\n",
    "bucket_name = \"curated\"\n",
    "joblib.dump(rf, file_path)\n",
    "\n",
    "# Salvar modelo no datalake\n",
    "client.fput_object(\n",
    "    bucket_name,\n",
    "    file_name,\n",
    "    file_path\n",
    ")"
   ]
  },
  {
   "cell_type": "code",
   "execution_count": 31,
   "metadata": {},
   "outputs": [
    {
     "data": {
      "text/plain": [
       "<minio.helpers.ObjectWriteResult at 0x1957e635340>"
      ]
     },
     "execution_count": 31,
     "metadata": {},
     "output_type": "execute_result"
    }
   ],
   "source": [
    "# Salvar dataset final em disco\n",
    "file_path = \"C:\\Projetos Pessoais\\Projeto_RHAnalytics\\datasets\\dataset.csv\"\n",
    "file_name = \"dataset.csv\"\n",
    "bucket_name = \"curated\"\n",
    "\n",
    "df.to_csv(file_path,index=False)\n",
    "\n",
    "# Salvar dataset final no datalake\n",
    "client.fput_object(\n",
    "    bucket_name,\n",
    "    file_name,\n",
    "    file_path\n",
    ")"
   ]
  },
  {
   "cell_type": "code",
   "execution_count": null,
   "metadata": {},
   "outputs": [],
   "source": []
  }
 ],
 "metadata": {
  "interpreter": {
   "hash": "1eba2ce58a76258057e5655074d5d566e9a7c0b5be52357004016ccbf36cdde3"
  },
  "kernelspec": {
   "display_name": "Python 3.9.7 ('base')",
   "language": "python",
   "name": "python3"
  },
  "language_info": {
   "codemirror_mode": {
    "name": "ipython",
    "version": 3
   },
   "file_extension": ".py",
   "mimetype": "text/x-python",
   "name": "python",
   "nbconvert_exporter": "python",
   "pygments_lexer": "ipython3",
   "version": "3.9.7"
  },
  "orig_nbformat": 4
 },
 "nbformat": 4,
 "nbformat_minor": 2
}
